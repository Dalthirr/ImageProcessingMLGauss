{
 "cells": [
  {
   "cell_type": "markdown",
   "metadata": {},
   "source": [
    "# Proces tworzenia modelu i treningu "
   ]
  },
  {
   "cell_type": "markdown",
   "metadata": {},
   "source": [
    "## Efekty zapisywane do model_wytrenowany.h5 i historia w pliku historia.json"
   ]
  },
  {
   "cell_type": "markdown",
   "metadata": {},
   "source": [
    "### Importujemy biblioteki"
   ]
  },
  {
   "cell_type": "code",
   "execution_count": 1,
   "metadata": {},
   "outputs": [
    {
     "name": "stderr",
     "output_type": "stream",
     "text": [
      "Using TensorFlow backend.\n"
     ]
    }
   ],
   "source": [
    "#importujemy biblioteki\n",
    "import keras.layers as Layers\n",
    "import keras.activations as Actications\n",
    "import keras.models as Models\n",
    "import keras.optimizers as Optimizer\n",
    "import keras.metrics as Metrics\n",
    "import keras.utils as Utils\n",
    "import keras\n",
    "import tensorflow as tf\n",
    "import numpy as np\n"
   ]
  },
  {
   "cell_type": "markdown",
   "metadata": {},
   "source": [
    "### Importujemy zbiór treningowy i funkcję potrzebną nam do importu"
   ]
  },
  {
   "cell_type": "code",
   "execution_count": 2,
   "metadata": {},
   "outputs": [
    {
     "name": "stdout",
     "output_type": "stream",
     "text": [
      "Importing Jupyter notebook from model_notebook.ipynb\n"
     ]
    }
   ],
   "source": [
    "import nbimporter\n",
    "from model_notebook import wczytaj_obrazki, slownik_etykiety\n"
   ]
  },
  {
   "cell_type": "code",
   "execution_count": 3,
   "metadata": {},
   "outputs": [],
   "source": [
    "obrazy_treningowe, etykiety_treningowe = wczytaj_obrazki('../Model CNN/seg_train/')\n",
    "\n",
    "obrazy_treningowe = np.array(obrazy_treningowe) \n",
    "etykiety_treningowe = np.array(etykiety_treningowe)\n"
   ]
  },
  {
   "cell_type": "markdown",
   "metadata": {},
   "source": [
    "### Tworzymy model"
   ]
  },
  {
   "cell_type": "code",
   "execution_count": 4,
   "metadata": {},
   "outputs": [],
   "source": [
    "model = Models.Sequential()\n",
    "\n",
    "# Dodajemy warstwy\n",
    "model.add(Layers.Conv2D(200, kernel_size=(3, 3),\n",
    "                        activation='relu', input_shape=(150, 150, 3)))\n",
    "model.add(Layers.Conv2D(180, kernel_size=(3, 3), activation='relu'))\n",
    "\n",
    "model.add(Layers.MaxPool2D(5, 5))\n",
    "\n",
    "model.add(Layers.Conv2D(180, kernel_size=(3, 3), activation='relu'))\n",
    "model.add(Layers.Conv2D(140, kernel_size=(3, 3), activation='relu'))\n",
    "model.add(Layers.Conv2D(100, kernel_size=(3, 3), activation='relu'))\n",
    "model.add(Layers.Conv2D(50, kernel_size=(3, 3), activation='relu'))\n",
    "\n",
    "model.add(Layers.MaxPool2D(5, 5))\n",
    "model.add(Layers.Flatten())\n",
    "\n",
    "model.add(Layers.Dense(180, activation='relu'))\n",
    "model.add(Layers.Dense(100, activation='relu'))\n",
    "model.add(Layers.Dense(50, activation='relu'))\n",
    "model.add(Layers.Dropout(rate=0.5))\n",
    "# Softmax z 6 neuronami - w końcu mamy 6 kategorii!\n",
    "model.add(Layers.Dense(6, activation='softmax'))\n"
   ]
  },
  {
   "cell_type": "markdown",
   "metadata": {},
   "source": [
    "### Kompilujemy"
   ]
  },
  {
   "cell_type": "code",
   "execution_count": 5,
   "metadata": {},
   "outputs": [],
   "source": [
    "# Ominiemy problem z kodowaniem gorącojedynkowym\n",
    "# naszych 6 kategorii używając sparse_categorical_crossentropy\n",
    "# Zamiast categorical_crossentropy\n",
    "model.compile(optimizer=Optimizer.Adam(lr=0.0001),\n",
    "              loss='sparse_categorical_crossentropy',\n",
    "              metrics=['accuracy']\n",
    "              )\n"
   ]
  },
  {
   "cell_type": "code",
   "execution_count": 6,
   "metadata": {},
   "outputs": [
    {
     "name": "stdout",
     "output_type": "stream",
     "text": [
      "_________________________________________________________________\n",
      "Layer (type)                 Output Shape              Param #   \n",
      "=================================================================\n",
      "conv2d_1 (Conv2D)            (None, 148, 148, 200)     5600      \n",
      "_________________________________________________________________\n",
      "conv2d_2 (Conv2D)            (None, 146, 146, 180)     324180    \n",
      "_________________________________________________________________\n",
      "max_pooling2d_1 (MaxPooling2 (None, 29, 29, 180)       0         \n",
      "_________________________________________________________________\n",
      "conv2d_3 (Conv2D)            (None, 27, 27, 180)       291780    \n",
      "_________________________________________________________________\n",
      "conv2d_4 (Conv2D)            (None, 25, 25, 140)       226940    \n",
      "_________________________________________________________________\n",
      "conv2d_5 (Conv2D)            (None, 23, 23, 100)       126100    \n",
      "_________________________________________________________________\n",
      "conv2d_6 (Conv2D)            (None, 21, 21, 50)        45050     \n",
      "_________________________________________________________________\n",
      "max_pooling2d_2 (MaxPooling2 (None, 4, 4, 50)          0         \n",
      "_________________________________________________________________\n",
      "flatten_1 (Flatten)          (None, 800)               0         \n",
      "_________________________________________________________________\n",
      "dense_1 (Dense)              (None, 180)               144180    \n",
      "_________________________________________________________________\n",
      "dense_2 (Dense)              (None, 100)               18100     \n",
      "_________________________________________________________________\n",
      "dense_3 (Dense)              (None, 50)                5050      \n",
      "_________________________________________________________________\n",
      "dropout_1 (Dropout)          (None, 50)                0         \n",
      "_________________________________________________________________\n",
      "dense_4 (Dense)              (None, 6)                 306       \n",
      "=================================================================\n",
      "Total params: 1,187,286\n",
      "Trainable params: 1,187,286\n",
      "Non-trainable params: 0\n",
      "_________________________________________________________________\n"
     ]
    }
   ],
   "source": [
    "# Sprawdzmy, jak wyglada\n",
    "model.summary()"
   ]
  },
  {
   "cell_type": "code",
   "execution_count": 7,
   "metadata": {},
   "outputs": [
    {
     "name": "stdout",
     "output_type": "stream",
     "text": [
      "[name: \"/device:CPU:0\"\n",
      "device_type: \"CPU\"\n",
      "memory_limit: 268435456\n",
      "locality {\n",
      "}\n",
      "incarnation: 16016370898407619302\n",
      ", name: \"/device:GPU:0\"\n",
      "device_type: \"GPU\"\n",
      "memory_limit: 3178404249\n",
      "locality {\n",
      "  bus_id: 1\n",
      "  links {\n",
      "  }\n",
      "}\n",
      "incarnation: 16044531321932753305\n",
      "physical_device_desc: \"device: 0, name: GeForce GTX 1050, pci bus id: 0000:01:00.0, compute capability: 6.1\"\n",
      "]\n"
     ]
    },
    {
     "data": {
      "text/plain": [
       "['/job:localhost/replica:0/task:0/device:GPU:0']"
      ]
     },
     "execution_count": 7,
     "metadata": {},
     "output_type": "execute_result"
    }
   ],
   "source": [
    "from tensorflow.python.client import device_lib\n",
    "print(device_lib.list_local_devices())\n",
    "from keras import backend as K\n",
    "K.tensorflow_backend._get_available_gpus()"
   ]
  },
  {
   "cell_type": "markdown",
   "metadata": {},
   "source": [
    "### Czas go wytrenować!\n",
    "#### Użyjemy 35 % zbioru walidacyjnego oraz liczba epok będzie wynosić 30."
   ]
  },
  {
   "cell_type": "code",
   "execution_count": 8,
   "metadata": {},
   "outputs": [
    {
     "name": "stdout",
     "output_type": "stream",
     "text": [
      "Train on 9122 samples, validate on 4912 samples\n",
      "Epoch 1/30\n",
      "9122/9122 [==============================] - 281s 31ms/step - loss: 1.4976 - acc: 0.3862 - val_loss: 1.0361 - val_acc: 0.6067\n",
      "Epoch 2/30\n",
      "9122/9122 [==============================] - 279s 31ms/step - loss: 1.1195 - acc: 0.5627 - val_loss: 0.8404 - val_acc: 0.6893\n",
      "Epoch 3/30\n",
      "9122/9122 [==============================] - 278s 30ms/step - loss: 0.9318 - acc: 0.6590 - val_loss: 0.8045 - val_acc: 0.7058\n",
      "Epoch 4/30\n",
      "9122/9122 [==============================] - 279s 31ms/step - loss: 0.7863 - acc: 0.7225 - val_loss: 0.7375 - val_acc: 0.7390\n",
      "Epoch 5/30\n",
      "9122/9122 [==============================] - 278s 31ms/step - loss: 0.7032 - acc: 0.7556 - val_loss: 0.7768 - val_acc: 0.7433\n",
      "Epoch 6/30\n",
      "9122/9122 [==============================] - 279s 31ms/step - loss: 0.6394 - acc: 0.7810 - val_loss: 0.5385 - val_acc: 0.8129\n",
      "Epoch 7/30\n",
      "9122/9122 [==============================] - 279s 31ms/step - loss: 0.5849 - acc: 0.8003 - val_loss: 0.5152 - val_acc: 0.8239\n",
      "Epoch 8/30\n",
      "9122/9122 [==============================] - 278s 30ms/step - loss: 0.5555 - acc: 0.8137 - val_loss: 0.4747 - val_acc: 0.8345\n",
      "Epoch 9/30\n",
      "9122/9122 [==============================] - 278s 30ms/step - loss: 0.4963 - acc: 0.8308 - val_loss: 0.4610 - val_acc: 0.8404\n",
      "Epoch 10/30\n",
      "9122/9122 [==============================] - 279s 31ms/step - loss: 0.4576 - acc: 0.8420 - val_loss: 0.5529 - val_acc: 0.8237\n",
      "Epoch 11/30\n",
      "9122/9122 [==============================] - 278s 31ms/step - loss: 0.4268 - acc: 0.8553 - val_loss: 0.5089 - val_acc: 0.8379\n",
      "Epoch 12/30\n",
      "9122/9122 [==============================] - 278s 31ms/step - loss: 0.3844 - acc: 0.8711 - val_loss: 0.4896 - val_acc: 0.8386\n",
      "Epoch 13/30\n",
      "9122/9122 [==============================] - 279s 31ms/step - loss: 0.3504 - acc: 0.8847 - val_loss: 0.4788 - val_acc: 0.8536\n",
      "Epoch 14/30\n",
      "9122/9122 [==============================] - 279s 31ms/step - loss: 0.3191 - acc: 0.8894 - val_loss: 0.5321 - val_acc: 0.8489\n",
      "Epoch 15/30\n",
      "9122/9122 [==============================] - 279s 31ms/step - loss: 0.2950 - acc: 0.9006 - val_loss: 0.5143 - val_acc: 0.8553\n",
      "Epoch 16/30\n",
      "9122/9122 [==============================] - 279s 31ms/step - loss: 0.2504 - acc: 0.9172 - val_loss: 0.5518 - val_acc: 0.8469\n",
      "Epoch 17/30\n",
      "9122/9122 [==============================] - 279s 31ms/step - loss: 0.2423 - acc: 0.9206 - val_loss: 0.5693 - val_acc: 0.8491\n",
      "Epoch 18/30\n",
      "9122/9122 [==============================] - 278s 30ms/step - loss: 0.2246 - acc: 0.9259 - val_loss: 0.6577 - val_acc: 0.8520\n",
      "Epoch 19/30\n",
      "9122/9122 [==============================] - 278s 30ms/step - loss: 0.1893 - acc: 0.9411 - val_loss: 0.6369 - val_acc: 0.8534\n",
      "Epoch 20/30\n",
      "9122/9122 [==============================] - 278s 31ms/step - loss: 0.2007 - acc: 0.9344 - val_loss: 0.6367 - val_acc: 0.8445\n",
      "Epoch 21/30\n",
      "9122/9122 [==============================] - 279s 31ms/step - loss: 0.1803 - acc: 0.9431 - val_loss: 0.6616 - val_acc: 0.8439\n",
      "Epoch 22/30\n",
      "9122/9122 [==============================] - 280s 31ms/step - loss: 0.1561 - acc: 0.9509 - val_loss: 0.7415 - val_acc: 0.8349\n",
      "Epoch 23/30\n",
      "9122/9122 [==============================] - 279s 31ms/step - loss: 0.1490 - acc: 0.9547 - val_loss: 0.7649 - val_acc: 0.8506\n",
      "Epoch 24/30\n",
      "9122/9122 [==============================] - 279s 31ms/step - loss: 0.1325 - acc: 0.9561 - val_loss: 0.8031 - val_acc: 0.8469\n",
      "Epoch 25/30\n",
      "9122/9122 [==============================] - 279s 31ms/step - loss: 0.1364 - acc: 0.9565 - val_loss: 0.7310 - val_acc: 0.8485\n",
      "Epoch 26/30\n",
      "9122/9122 [==============================] - 279s 31ms/step - loss: 0.1421 - acc: 0.9554 - val_loss: 0.8784 - val_acc: 0.8196\n",
      "Epoch 27/30\n",
      "9122/9122 [==============================] - 279s 31ms/step - loss: 0.1368 - acc: 0.9586 - val_loss: 0.6916 - val_acc: 0.8434\n",
      "Epoch 28/30\n",
      "9122/9122 [==============================] - 277s 30ms/step - loss: 0.1026 - acc: 0.9671 - val_loss: 0.9528 - val_acc: 0.8172\n",
      "Epoch 29/30\n",
      "9122/9122 [==============================] - 278s 31ms/step - loss: 0.1221 - acc: 0.9611 - val_loss: 0.7823 - val_acc: 0.8430\n",
      "Epoch 30/30\n",
      "9122/9122 [==============================] - 279s 31ms/step - loss: 0.1095 - acc: 0.9661 - val_loss: 0.9931 - val_acc: 0.8265\n"
     ]
    }
   ],
   "source": [
    "trening = model.fit(obrazy_treningowe,\n",
    "                    etykiety_treningowe,\n",
    "                    epochs=30,\n",
    "                    validation_split=0.35,\n",
    "                    batch_size=8\n",
    "                    )\n"
   ]
  },
  {
   "cell_type": "markdown",
   "metadata": {},
   "source": [
    "### Zapisujemy wytrenowany model i historię"
   ]
  },
  {
   "cell_type": "code",
   "execution_count": 12,
   "metadata": {},
   "outputs": [],
   "source": [
    "import json\n",
    "from keras.models import load_model\n",
    "model.save('wytrenowany_model.h5')\n",
    "# Utwórz słownik z metryką i wartością straty dla każdej epoki\n",
    "historia = trening.history\n",
    "# Zapisz w formacie JSON\n",
    "json.dump(historia, open('../Model CNN/historia.json', 'w'))\n"
   ]
  }
 ],
 "metadata": {
  "hide_input": false,
  "kernelspec": {
   "display_name": "Python 3",
   "language": "python",
   "name": "python3"
  },
  "language_info": {
   "codemirror_mode": {
    "name": "ipython",
    "version": 3
   },
   "file_extension": ".py",
   "mimetype": "text/x-python",
   "name": "python",
   "nbconvert_exporter": "python",
   "pygments_lexer": "ipython3",
   "version": "3.6.8"
  },
  "toc": {
   "base_numbering": 1,
   "nav_menu": {},
   "number_sections": true,
   "sideBar": true,
   "skip_h1_title": false,
   "title_cell": "Table of Contents",
   "title_sidebar": "Contents",
   "toc_cell": false,
   "toc_position": {},
   "toc_section_display": true,
   "toc_window_display": false
  }
 },
 "nbformat": 4,
 "nbformat_minor": 2
}
